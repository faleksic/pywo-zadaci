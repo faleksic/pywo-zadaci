{
 "cells": [
  {
   "cell_type": "markdown",
   "metadata": {},
   "source": [
    "a) Ispisati permutacije skupa {1,2,3,4}\n",
    "\n",
    "b) Koliko ih ima\n",
    "\n",
    "c) Napraviti generator"
   ]
  },
  {
   "cell_type": "code",
   "execution_count": 33,
   "metadata": {
    "collapsed": true
   },
   "outputs": [
    {
     "name": "stdout",
     "output_type": "stream",
     "text": [
      "1\n",
      "2\n",
      "3\n",
      "4\n",
      "\n",
      "\n",
      "1\n",
      "3\n",
      "4\n",
      "1\n",
      "\n",
      "\n",
      "1\n",
      "4\n",
      "1\n",
      "2\n",
      "\n",
      "\n",
      "1\n",
      "1\n",
      "2\n",
      "3\n",
      "\n",
      "\n",
      "2\n",
      "2\n",
      "3\n",
      "4\n",
      "\n",
      "\n",
      "2\n",
      "3\n",
      "4\n",
      "1\n",
      "\n",
      "\n",
      "2\n",
      "4\n",
      "1\n",
      "2\n",
      "\n",
      "\n",
      "2\n",
      "1\n",
      "2\n",
      "3\n",
      "\n",
      "\n",
      "3\n",
      "2\n",
      "3\n",
      "4\n",
      "\n",
      "\n",
      "3\n",
      "3\n",
      "4\n",
      "1\n",
      "\n",
      "\n",
      "3\n",
      "4\n",
      "1\n",
      "2\n",
      "\n",
      "\n",
      "3\n",
      "1\n",
      "2\n",
      "3\n",
      "\n",
      "\n",
      "4\n",
      "2\n",
      "3\n",
      "4\n",
      "\n",
      "\n",
      "4\n",
      "3\n",
      "4\n",
      "1\n",
      "\n",
      "\n",
      "4\n",
      "4\n",
      "1\n",
      "2\n",
      "\n",
      "\n",
      "4\n",
      "1\n",
      "2\n",
      "3\n",
      "\n",
      "\n"
     ]
    }
   ],
   "source": []
  },
  {
   "cell_type": "code",
   "execution_count": 38,
   "metadata": {
    "collapsed": false
   },
   "outputs": [],
   "source": [
    "def perm_gen():\n",
    "    for p in itertools.permutations(\"1234\"):\n",
    "        yield p\n",
    "        \n",
    "    yield from itertools.permutations(\"1234\")"
   ]
  },
  {
   "cell_type": "code",
   "execution_count": null,
   "metadata": {
    "collapsed": true
   },
   "outputs": [],
   "source": []
  }
 ],
 "metadata": {
  "kernelspec": {
   "display_name": "Python 3",
   "language": "python",
   "name": "python3"
  },
  "language_info": {
   "codemirror_mode": {
    "name": "ipython",
    "version": 3
   },
   "file_extension": ".py",
   "mimetype": "text/x-python",
   "name": "python",
   "nbconvert_exporter": "python",
   "pygments_lexer": "ipython3",
   "version": "3.4.0"
  }
 },
 "nbformat": 4,
 "nbformat_minor": 0
}
