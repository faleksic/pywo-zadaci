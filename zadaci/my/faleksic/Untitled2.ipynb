{
 "cells": [
  {
   "cell_type": "code",
   "execution_count": 3,
   "metadata": {
    "collapsed": false
   },
   "outputs": [
    {
     "name": "stdout",
     "output_type": "stream",
     "text": [
      "pywo_some_data.xlsx\r\n"
     ]
    }
   ],
   "source": [
    "!ls ../../03/"
   ]
  },
  {
   "cell_type": "code",
   "execution_count": 11,
   "metadata": {
    "collapsed": true
   },
   "outputs": [],
   "source": [
    "filename = \"pywo_some_data.xlsx\""
   ]
  },
  {
   "cell_type": "markdown",
   "metadata": {},
   "source": [
    "**Zadatak**\n",
    "\n",
    "Otvoriti ovaj excel file i pročitati prvi stupac.\n",
    "Za to nam treba modul xlrd. (excel reader)\n"
   ]
  },
  {
   "cell_type": "code",
   "execution_count": 12,
   "metadata": {
    "collapsed": false
   },
   "outputs": [],
   "source": [
    "!cp $filename ."
   ]
  },
  {
   "cell_type": "code",
   "execution_count": 7,
   "metadata": {
    "collapsed": false
   },
   "outputs": [],
   "source": [
    "import xlrd"
   ]
  },
  {
   "cell_type": "code",
   "execution_count": null,
   "metadata": {
    "collapsed": true
   },
   "outputs": [],
   "source": [
    "xl_workbook = xlrd.open_workbook(filename)\n",
    "xl_sheet = xl_workbook.sheet_by_index(0)\n",
    "L = [student.value for student in xl_sheet.col(0)]"
   ]
  },
  {
   "cell_type": "code",
   "execution_count": 40,
   "metadata": {
    "collapsed": true
   },
   "outputs": [
    {
     "data": {
      "text/plain": [
       "['Josip Mlakar, ',\n",
       " 'Elvis Popović, ',\n",
       " 'Vladimir Milašinović, ',\n",
       " 'Filip Rafajec, ',\n",
       " 'Matej Gucek, ',\n",
       " 'Jura Šolja, ',\n",
       " 'Gabrijela Grgača, ',\n",
       " 'Stjepan Rakarec, ',\n",
       " 'Davorin Špičko, ',\n",
       " 'Milan Pavlović, ',\n",
       " 'Senko Pušec, ',\n",
       " 'Filip Aleksić, ',\n",
       " 'Roman Tomašković, ',\n",
       " 'Peđa Čačić, ',\n",
       " 'Saša Poslončec,',\n",
       " 'Mislav Zebić, ',\n",
       " 'Ian Žonja,',\n",
       " 'Tomislav Cundić, ',\n",
       " 'Matija Kaniški,',\n",
       " 'Petar Šestak,',\n",
       " 'Ivana Završki,',\n",
       " 'Vedran Vađunec, ',\n",
       " 'Matea Bodulušić, ',\n",
       " 'Andrea Danzante,']"
      ]
     },
     "execution_count": 40,
     "metadata": {},
     "output_type": "execute_result"
    }
   ],
   "source": [
    "M = [ x for x in L if x != \"\" ]\n",
    "M"
   ]
  },
  {
   "cell_type": "code",
   "execution_count": 42,
   "metadata": {
    "collapsed": true
   },
   "outputs": [],
   "source": [
    "ime = 'Josip Mlakar, '"
   ]
  },
  {
   "cell_type": "code",
   "execution_count": 64,
   "metadata": {
    "collapsed": false
   },
   "outputs": [],
   "source": [
    "def sredi(ime):\n",
    "    v = ime.strip(\" ,\")\n",
    "    listica = v.split()\n",
    "    return listica[::-1]"
   ]
  },
  {
   "cell_type": "code",
   "execution_count": 65,
   "metadata": {
    "collapsed": false
   },
   "outputs": [
    {
     "data": {
      "text/plain": [
       "['Mlakar', 'Josip']"
      ]
     },
     "execution_count": 65,
     "metadata": {},
     "output_type": "execute_result"
    }
   ],
   "source": [
    "sredi(ime)"
   ]
  },
  {
   "cell_type": "code",
   "execution_count": 47,
   "metadata": {
    "collapsed": false
   },
   "outputs": [
    {
     "data": {
      "text/plain": [
       "['Mlakar,', 'Josip']"
      ]
     },
     "execution_count": 47,
     "metadata": {},
     "output_type": "execute_result"
    }
   ],
   "source": [
    "ime = ime.strip()\n",
    "listica = ime.split()\n",
    "\n",
    "listica[::-1]"
   ]
  },
  {
   "cell_type": "code",
   "execution_count": 66,
   "metadata": {
    "collapsed": false
   },
   "outputs": [],
   "source": [
    "P = [ sredi(ime) for ime in M]"
   ]
  },
  {
   "cell_type": "code",
   "execution_count": 67,
   "metadata": {
    "collapsed": false
   },
   "outputs": [
    {
     "data": {
      "text/plain": [
       "[['Danzante', 'Andrea'],\n",
       " ['Špičko', 'Davorin'],\n",
       " ['Popović', 'Elvis'],\n",
       " ['Rafajec', 'Filip'],\n",
       " ['Aleksić', 'Filip'],\n",
       " ['Grgača', 'Gabrijela'],\n",
       " ['Žonja', 'Ian'],\n",
       " ['Završki', 'Ivana'],\n",
       " ['Mlakar', 'Josip'],\n",
       " ['Šolja', 'Jura'],\n",
       " ['Bodulušić', 'Matea'],\n",
       " ['Gucek', 'Matej'],\n",
       " ['Kaniški', 'Matija'],\n",
       " ['Pavlović', 'Milan'],\n",
       " ['Zebić', 'Mislav'],\n",
       " ['Šestak', 'Petar'],\n",
       " ['Čačić', 'Peđa'],\n",
       " ['Tomašković', 'Roman'],\n",
       " ['Poslončec', 'Saša'],\n",
       " ['Pušec', 'Senko'],\n",
       " ['Rakarec', 'Stjepan'],\n",
       " ['Cundić', 'Tomislav'],\n",
       " ['Vađunec', 'Vedran'],\n",
       " ['Milašinović', 'Vladimir']]"
      ]
     },
     "execution_count": 67,
     "metadata": {},
     "output_type": "execute_result"
    }
   ],
   "source": [
    "fja_usporedbe = lambda x:x[1]\n",
    "sorted(P, key = fja_usporedbe)"
   ]
  },
  {
   "cell_type": "code",
   "execution_count": 56,
   "metadata": {
    "collapsed": false
   },
   "outputs": [],
   "source": [
    "sorted?"
   ]
  },
  {
   "cell_type": "code",
   "execution_count": 63,
   "metadata": {
    "collapsed": false
   },
   "outputs": [
    {
     "data": {
      "text/plain": [
       "<function __main__.<lambda>>"
      ]
     },
     "execution_count": 63,
     "metadata": {},
     "output_type": "execute_result"
    }
   ],
   "source": [
    "lambda x:x[1]\n",
    "# kraći zapis funkcije"
   ]
  },
  {
   "cell_type": "code",
   "execution_count": 69,
   "metadata": {
    "collapsed": false
   },
   "outputs": [],
   "source": [
    "!git add *.ipynb"
   ]
  },
  {
   "cell_type": "code",
   "execution_count": 71,
   "metadata": {
    "collapsed": false
   },
   "outputs": [
    {
     "name": "stdout",
     "output_type": "stream",
     "text": [
      "On branch master\r\n",
      "Your branch is ahead of 'origin/master' by 4 commits.\r\n",
      "  (use \"git push\" to publish your local commits)\r\n",
      "\r\n",
      "Untracked files:\r\n",
      "\t\u001b[31m../../../notes/.ipynb_checkpoints/\u001b[m\r\n",
      "\t\u001b[31m../../../notes/Git config-Copy1.ipynb\u001b[m\r\n",
      "\t\u001b[31m.ipynb_checkpoints/Untitled-checkpoint.ipynb\u001b[m\r\n",
      "\t\u001b[31m.ipynb_checkpoints/Untitled1-checkpoint.ipynb\u001b[m\r\n",
      "\t\u001b[31m.ipynb_checkpoints/Untitled2-checkpoint.ipynb\u001b[m\r\n",
      "\t\u001b[31mpywo_some_data.xlsx\u001b[m\r\n",
      "\r\n",
      "nothing added to commit but untracked files present\r\n"
     ]
    }
   ],
   "source": [
    "!git commit -a -m \"Notebook za citanje excel-a.\""
   ]
  },
  {
   "cell_type": "code",
   "execution_count": 72,
   "metadata": {
    "collapsed": true
   },
   "outputs": [],
   "source": []
  }
 ],
 "metadata": {
  "kernelspec": {
   "display_name": "Python 3",
   "language": "python",
   "name": "python3"
  },
  "language_info": {
   "codemirror_mode": {
    "name": "ipython",
    "version": 3
   },
   "file_extension": ".py",
   "mimetype": "text/x-python",
   "name": "python",
   "nbconvert_exporter": "python",
   "pygments_lexer": "ipython3",
   "version": "3.4.0"
  }
 },
 "nbformat": 4,
 "nbformat_minor": 0
}
