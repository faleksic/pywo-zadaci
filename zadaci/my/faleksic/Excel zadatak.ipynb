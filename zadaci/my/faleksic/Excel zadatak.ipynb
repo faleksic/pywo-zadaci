{
 "cells": [
  {
   "cell_type": "code",
   "execution_count": 11,
   "metadata": {
    "collapsed": false
   },
   "outputs": [
    {
     "name": "stdout",
     "output_type": "stream",
     "text": [
      "Excel-citanje.ipynb  pywo_some_data.xlsx\r\n"
     ]
    }
   ],
   "source": [
    "!ls ../../03/"
   ]
  },
  {
   "cell_type": "code",
   "execution_count": 3,
   "metadata": {
    "collapsed": true
   },
   "outputs": [],
   "source": [
    "filename = \"pywo_some_data.xlsx\""
   ]
  },
  {
   "cell_type": "markdown",
   "metadata": {},
   "source": [
    "**Zadatak**\n",
    "\n",
    "Otvoriti ovaj excel file i pročitati prvi stupac.\n",
    "Za to nam treba modul xlrd. (excel reader)\n"
   ]
  },
  {
   "cell_type": "code",
   "execution_count": 4,
   "metadata": {
    "collapsed": false
   },
   "outputs": [
    {
     "name": "stdout",
     "output_type": "stream",
     "text": [
      "cp: ‘pywo_some_data.xlsx’ and ‘./pywo_some_data.xlsx’ are the same file\r\n"
     ]
    }
   ],
   "source": [
    "!cp $filename ."
   ]
  },
  {
   "cell_type": "code",
   "execution_count": 5,
   "metadata": {
    "collapsed": false
   },
   "outputs": [],
   "source": [
    "import xlrd"
   ]
  },
  {
   "cell_type": "code",
   "execution_count": 6,
   "metadata": {
    "collapsed": false
   },
   "outputs": [],
   "source": [
    "xl_workbook = xlrd.open_workbook(filename)\n",
    "xl_sheet = xl_workbook.sheet_by_index(0)\n",
    "L = [student.value for student in xl_sheet.col(0)]"
   ]
  },
  {
   "cell_type": "code",
   "execution_count": 7,
   "metadata": {
    "collapsed": false
   },
   "outputs": [],
   "source": [
    "M = [ x for x in L if x != \"\" ]"
   ]
  },
  {
   "cell_type": "code",
   "execution_count": 7,
   "metadata": {
    "collapsed": true
   },
   "outputs": [],
   "source": [
    "ime = 'Josip Mlakar, '"
   ]
  },
  {
   "cell_type": "code",
   "execution_count": 9,
   "metadata": {
    "collapsed": false
   },
   "outputs": [],
   "source": [
    "def sredi(ime):\n",
    "    v = ime.strip(\" ,\")\n",
    "    listica = v.split()\n",
    "    return listica[::-1]"
   ]
  },
  {
   "cell_type": "code",
   "execution_count": 9,
   "metadata": {
    "collapsed": false
   },
   "outputs": [
    {
     "data": {
      "text/plain": [
       "['Mlakar', 'Josip']"
      ]
     },
     "execution_count": 9,
     "metadata": {},
     "output_type": "execute_result"
    }
   ],
   "source": [
    "sredi(ime)"
   ]
  },
  {
   "cell_type": "code",
   "execution_count": 10,
   "metadata": {
    "collapsed": false
   },
   "outputs": [
    {
     "data": {
      "text/plain": [
       "['Mlakar,', 'Josip']"
      ]
     },
     "execution_count": 10,
     "metadata": {},
     "output_type": "execute_result"
    }
   ],
   "source": [
    "ime = ime.strip()\n",
    "listica = ime.split()\n",
    "\n",
    "listica[::-1]"
   ]
  },
  {
   "cell_type": "code",
   "execution_count": 10,
   "metadata": {
    "collapsed": false
   },
   "outputs": [],
   "source": [
    "P = [ sredi(ime) for ime in M]"
   ]
  },
  {
   "cell_type": "code",
   "execution_count": 17,
   "metadata": {
    "collapsed": false
   },
   "outputs": [
    {
     "data": {
      "text/plain": [
       "[['Danzante', 'Andrea'],\n",
       " ['Špičko', 'Davorin'],\n",
       " ['Popović', 'Elvis'],\n",
       " ['Rafajec', 'Filip'],\n",
       " ['Aleksić', 'Filip'],\n",
       " ['Grgača', 'Gabrijela'],\n",
       " ['Žonja', 'Ian'],\n",
       " ['Završki', 'Ivana'],\n",
       " ['Mlakar', 'Josip'],\n",
       " ['Šolja', 'Jura'],\n",
       " ['Bodulušić', 'Matea'],\n",
       " ['Gucek', 'Matej'],\n",
       " ['Kaniški', 'Matija'],\n",
       " ['Pavlović', 'Milan'],\n",
       " ['Zebić', 'Mislav'],\n",
       " ['Šestak', 'Petar'],\n",
       " ['Čačić', 'Peđa'],\n",
       " ['Tomašković', 'Roman'],\n",
       " ['Poslončec', 'Saša'],\n",
       " ['Pušec', 'Senko'],\n",
       " ['Rakarec', 'Stjepan'],\n",
       " ['Cundić', 'Tomislav'],\n",
       " ['Vađunec', 'Vedran'],\n",
       " ['Milašinović', 'Vladimir']]"
      ]
     },
     "execution_count": 17,
     "metadata": {},
     "output_type": "execute_result"
    }
   ],
   "source": [
    "fja_usporedbe = lambda x:x[1]\n",
    "sorted(P, key = fja_usporedbe)"
   ]
  },
  {
   "cell_type": "code",
   "execution_count": 2,
   "metadata": {
    "collapsed": false
   },
   "outputs": [],
   "source": [
    "sorted?"
   ]
  },
  {
   "cell_type": "code",
   "execution_count": 13,
   "metadata": {
    "collapsed": false
   },
   "outputs": [
    {
     "data": {
      "text/plain": [
       "<function __main__.<lambda>>"
      ]
     },
     "execution_count": 13,
     "metadata": {},
     "output_type": "execute_result"
    }
   ],
   "source": [
    "lambda x:x[1]\n",
    "# kraći zapis funkcije"
   ]
  },
  {
   "cell_type": "code",
   "execution_count": 69,
   "metadata": {
    "collapsed": false
   },
   "outputs": [],
   "source": [
    "!git add *.ipynb"
   ]
  },
  {
   "cell_type": "code",
   "execution_count": 71,
   "metadata": {
    "collapsed": false
   },
   "outputs": [
    {
     "name": "stdout",
     "output_type": "stream",
     "text": [
      "On branch master\r\n",
      "Your branch is ahead of 'origin/master' by 4 commits.\r\n",
      "  (use \"git push\" to publish your local commits)\r\n",
      "\r\n",
      "Untracked files:\r\n",
      "\t\u001b[31m../../../notes/.ipynb_checkpoints/\u001b[m\r\n",
      "\t\u001b[31m../../../notes/Git config-Copy1.ipynb\u001b[m\r\n",
      "\t\u001b[31m.ipynb_checkpoints/Untitled-checkpoint.ipynb\u001b[m\r\n",
      "\t\u001b[31m.ipynb_checkpoints/Untitled1-checkpoint.ipynb\u001b[m\r\n",
      "\t\u001b[31m.ipynb_checkpoints/Untitled2-checkpoint.ipynb\u001b[m\r\n",
      "\t\u001b[31mpywo_some_data.xlsx\u001b[m\r\n",
      "\r\n",
      "nothing added to commit but untracked files present\r\n"
     ]
    }
   ],
   "source": [
    "!git commit -a -m \"Notebook za citanje excel-a.\""
   ]
  },
  {
   "cell_type": "code",
   "execution_count": 4,
   "metadata": {
    "collapsed": false
   },
   "outputs": [
    {
     "name": "stdout",
     "output_type": "stream",
     "text": [
      "Requirement already satisfied (use --upgrade to upgrade): xlwt in /home/faleksic/.virtualenvs/pywo3/lib/python3.4/site-packages\r\n"
     ]
    }
   ],
   "source": [
    "!pip install xlwt"
   ]
  },
  {
   "cell_type": "code",
   "execution_count": 37,
   "metadata": {
    "collapsed": false
   },
   "outputs": [],
   "source": [
    "import xlwt\n",
    "book = xlwt.Workbook()\n",
    "sheet = book.add_sheet('Studenti')\n",
    "for i in range(len(P)):\n",
    "    sheet.write(i,0,P[i][0],xlwt.easyxf(\n",
    "        'font: name Arial;'))\n",
    "    sheet.write(i,1,P[i][1],xlwt.easyxf(\n",
    "        'font: name Arial;'))\n",
    "\n",
    "book.save('Rješenje.xls')"
   ]
  },
  {
   "cell_type": "code",
   "execution_count": 2,
   "metadata": {
    "collapsed": false
   },
   "outputs": [
    {
     "data": {
      "text/plain": [
       "'LC_CTYPE=en_US.UTF-8;LC_NUMERIC=hr_HR.UTF-8;LC_TIME=hr_HR.UTF-8;LC_COLLATE=en_US.UTF-8;LC_MONETARY=hr_HR.UTF-8;LC_MESSAGES=en_US.UTF-8;LC_PAPER=hr_HR.UTF-8;LC_NAME=hr_HR.UTF-8;LC_ADDRESS=hr_HR.UTF-8;LC_TELEPHONE=hr_HR.UTF-8;LC_MEASUREMENT=hr_HR.UTF-8;LC_IDENTIFICATION=hr_HR.UTF-8'"
      ]
     },
     "execution_count": 2,
     "metadata": {},
     "output_type": "execute_result"
    }
   ],
   "source": [
    "import locale\n",
    "locale.setlocale(locale.LC_ALL, \"\")"
   ]
  },
  {
   "cell_type": "code",
   "execution_count": 26,
   "metadata": {
    "collapsed": false
   },
   "outputs": [
    {
     "ename": "TypeError",
     "evalue": "'list' object cannot be interpreted as an integer",
     "output_type": "error",
     "traceback": [
      "\u001b[1;31m---------------------------------------------------------------------------\u001b[0m",
      "\u001b[1;31mTypeError\u001b[0m                                 Traceback (most recent call last)",
      "\u001b[1;32m<ipython-input-26-32e87f0fb399>\u001b[0m in \u001b[0;36m<module>\u001b[1;34m()\u001b[0m\n\u001b[1;32m----> 1\u001b[1;33m \u001b[1;32mfor\u001b[0m \u001b[0mi\u001b[0m \u001b[1;32min\u001b[0m \u001b[0mrange\u001b[0m\u001b[1;33m(\u001b[0m\u001b[0mP\u001b[0m\u001b[1;33m)\u001b[0m\u001b[1;33m:\u001b[0m\u001b[1;33m\u001b[0m\u001b[0m\n\u001b[0m\u001b[0;32m      2\u001b[0m     \u001b[0mprint\u001b[0m\u001b[1;33m(\u001b[0m\u001b[0mi\u001b[0m\u001b[1;33m)\u001b[0m\u001b[1;33m\u001b[0m\u001b[0m\n",
      "\u001b[1;31mTypeError\u001b[0m: 'list' object cannot be interpreted as an integer"
     ]
    }
   ],
   "source": [
    "for i in range(P):\n",
    "    print(i)"
   ]
  },
  {
   "cell_type": "code",
   "execution_count": null,
   "metadata": {
    "collapsed": true
   },
   "outputs": [],
   "source": []
  }
 ],
 "metadata": {
  "kernelspec": {
   "display_name": "Python 3",
   "language": "python",
   "name": "python3"
  },
  "language_info": {
   "codemirror_mode": {
    "name": "ipython",
    "version": 3
   },
   "file_extension": ".py",
   "mimetype": "text/x-python",
   "name": "python",
   "nbconvert_exporter": "python",
   "pygments_lexer": "ipython3",
   "version": "3.4.0"
  }
 },
 "nbformat": 4,
 "nbformat_minor": 0
}
